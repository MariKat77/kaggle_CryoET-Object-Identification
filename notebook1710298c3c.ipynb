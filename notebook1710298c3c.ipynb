{
 "cells": [
  {
   "cell_type": "code",
   "execution_count": 1,
   "id": "70be7784",
   "metadata": {
    "execution": {
     "iopub.execute_input": "2025-02-04T20:51:13.376383Z",
     "iopub.status.busy": "2025-02-04T20:51:13.376159Z",
     "iopub.status.idle": "2025-02-04T20:52:01.352500Z",
     "shell.execute_reply": "2025-02-04T20:52:01.351286Z"
    },
    "papermill": {
     "duration": 47.982943,
     "end_time": "2025-02-04T20:52:01.354176",
     "exception": false,
     "start_time": "2025-02-04T20:51:13.371233",
     "status": "completed"
    },
    "tags": []
   },
   "outputs": [
    {
     "name": "stdout",
     "output_type": "stream",
     "text": [
      "./packages/\r\n",
      "./packages/nvidia_cufft_cu12-11.2.1.3-py3-none-manylinux2014_x86_64.whl\r\n",
      "./packages/triton-3.2.0-cp310-cp310-manylinux_2_17_x86_64.manylinux2014_x86_64.whl\r\n",
      "./packages/psutil-6.1.1-cp36-abi3-manylinux_2_12_x86_64.manylinux2010_x86_64.manylinux_2_17_x86_64.manylinux2014_x86_64.whl\r\n",
      "./packages/typing_extensions-4.12.2-py3-none-any.whl\r\n",
      "./packages/nvidia_cuda_runtime_cu12-12.4.127-py3-none-manylinux2014_x86_64.whl\r\n",
      "./packages/MarkupSafe-3.0.2-cp310-cp310-manylinux_2_17_x86_64.manylinux2014_x86_64.whl\r\n",
      "./packages/ultralytics_thop-2.0.14-py3-none-any.whl\r\n",
      "./packages/nvidia_nccl_cu12-2.21.5-py3-none-manylinux2014_x86_64.whl\r\n",
      "./packages/scipy-1.15.1-cp310-cp310-manylinux_2_17_x86_64.manylinux2014_x86_64.whl\r\n",
      "./packages/networkx-3.4.2-py3-none-any.whl\r\n",
      "./packages/torchvision-0.21.0-cp310-cp310-manylinux1_x86_64.whl\r\n",
      "./packages/nvidia_cudnn_cu12-9.1.0.70-py3-none-manylinux2014_x86_64.whl\r\n",
      "./packages/nvidia_cublas_cu12-12.4.5.8-py3-none-manylinux2014_x86_64.whl\r\n",
      "./packages/charset_normalizer-3.4.1-cp310-cp310-manylinux_2_17_x86_64.manylinux2014_x86_64.whl\r\n",
      "./packages/mpmath-1.3.0-py3-none-any.whl\r\n",
      "./packages/cycler-0.12.1-py3-none-any.whl\r\n",
      "./packages/python_dateutil-2.9.0.post0-py2.py3-none-any.whl\r\n",
      "./packages/py_cpuinfo-9.0.0-py3-none-any.whl\r\n",
      "./packages/nvidia_cusparselt_cu12-0.6.2-py3-none-manylinux2014_x86_64.whl\r\n",
      "./packages/fonttools-4.55.8-cp310-cp310-manylinux_2_17_x86_64.manylinux2014_x86_64.whl\r\n",
      "./packages/matplotlib-3.10.0-cp310-cp310-manylinux_2_17_x86_64.manylinux2014_x86_64.whl\r\n",
      "./packages/six-1.17.0-py2.py3-none-any.whl\r\n",
      "./packages/nvidia_curand_cu12-10.3.5.147-py3-none-manylinux2014_x86_64.whl\r\n",
      "./packages/nvidia_nvtx_cu12-12.4.127-py3-none-manylinux2014_x86_64.whl\r\n",
      "./packages/seaborn-0.13.2-py3-none-any.whl\r\n",
      "./packages/pytz-2025.1-py2.py3-none-any.whl\r\n",
      "./packages/packaging-24.2-py3-none-any.whl\r\n",
      "./packages/nvidia_nvjitlink_cu12-12.4.127-py3-none-manylinux2014_x86_64.whl\r\n",
      "./packages/pyparsing-3.2.1-py3-none-any.whl\r\n",
      "./packages/pandas-2.2.3-cp310-cp310-manylinux_2_17_x86_64.manylinux2014_x86_64.whl\r\n",
      "./packages/nvidia_cuda_cupti_cu12-12.4.127-py3-none-manylinux2014_x86_64.whl\r\n",
      "./packages/tqdm-4.67.1-py3-none-any.whl\r\n",
      "./packages/kiwisolver-1.4.8-cp310-cp310-manylinux_2_12_x86_64.manylinux2010_x86_64.whl\r\n",
      "./packages/nvidia_cuda_nvrtc_cu12-12.4.127-py3-none-manylinux2014_x86_64.whl\r\n",
      "./packages/filelock-3.17.0-py3-none-any.whl\r\n",
      "./packages/urllib3-2.3.0-py3-none-any.whl\r\n",
      "./packages/torch-2.6.0-cp310-cp310-manylinux1_x86_64.whl\r\n",
      "./packages/sympy-1.13.1-py3-none-any.whl\r\n",
      "./packages/contourpy-1.3.1-cp310-cp310-manylinux_2_17_x86_64.manylinux2014_x86_64.whl\r\n",
      "./packages/jinja2-3.1.5-py3-none-any.whl\r\n",
      "./packages/certifi-2025.1.31-py3-none-any.whl\r\n",
      "./packages/idna-3.10-py3-none-any.whl\r\n",
      "./packages/tzdata-2025.1-py2.py3-none-any.whl\r\n",
      "./packages/ultralytics-8.3.71-py3-none-any.whl\r\n",
      "./packages/PyYAML-6.0.2-cp310-cp310-manylinux_2_17_x86_64.manylinux2014_x86_64.whl\r\n",
      "./packages/nvidia_cusolver_cu12-11.6.1.9-py3-none-manylinux2014_x86_64.whl\r\n",
      "./packages/pillow-11.1.0-cp310-cp310-manylinux_2_28_x86_64.whl\r\n",
      "./packages/nvidia_cusparse_cu12-12.3.1.170-py3-none-manylinux2014_x86_64.whl\r\n",
      "./packages/requests-2.32.3-py3-none-any.whl\r\n",
      "./packages/opencv_python-4.11.0.86-cp37-abi3-manylinux_2_17_x86_64.manylinux2014_x86_64.whl\r\n",
      "./packages/fsspec-2025.2.0-py3-none-any.whl\r\n",
      "./packages/numpy-2.1.1-cp310-cp310-manylinux_2_17_x86_64.manylinux2014_x86_64.whl\r\n",
      "Looking in links: ./packages\r\n",
      "Processing ./packages/ultralytics-8.3.71-py3-none-any.whl\r\n",
      "Requirement already satisfied: numpy<=2.1.1,>=1.23.0 in /usr/local/lib/python3.10/dist-packages (from ultralytics) (1.26.4)\r\n",
      "Requirement already satisfied: matplotlib>=3.3.0 in /usr/local/lib/python3.10/dist-packages (from ultralytics) (3.7.5)\r\n",
      "Requirement already satisfied: opencv-python>=4.6.0 in /usr/local/lib/python3.10/dist-packages (from ultralytics) (4.10.0.84)\r\n",
      "Requirement already satisfied: pillow>=7.1.2 in /usr/local/lib/python3.10/dist-packages (from ultralytics) (11.0.0)\r\n",
      "Requirement already satisfied: pyyaml>=5.3.1 in /usr/local/lib/python3.10/dist-packages (from ultralytics) (6.0.2)\r\n",
      "Requirement already satisfied: requests>=2.23.0 in /usr/local/lib/python3.10/dist-packages (from ultralytics) (2.32.3)\r\n",
      "Requirement already satisfied: scipy>=1.4.1 in /usr/local/lib/python3.10/dist-packages (from ultralytics) (1.13.1)\r\n",
      "Requirement already satisfied: torch>=1.8.0 in /usr/local/lib/python3.10/dist-packages (from ultralytics) (2.5.1+cu121)\r\n",
      "Requirement already satisfied: torchvision>=0.9.0 in /usr/local/lib/python3.10/dist-packages (from ultralytics) (0.20.1+cu121)\r\n",
      "Requirement already satisfied: tqdm>=4.64.0 in /usr/local/lib/python3.10/dist-packages (from ultralytics) (4.67.1)\r\n",
      "Requirement already satisfied: psutil in /usr/local/lib/python3.10/dist-packages (from ultralytics) (5.9.5)\r\n",
      "Requirement already satisfied: py-cpuinfo in /usr/local/lib/python3.10/dist-packages (from ultralytics) (9.0.0)\r\n",
      "Requirement already satisfied: pandas>=1.1.4 in /usr/local/lib/python3.10/dist-packages (from ultralytics) (2.2.2)\r\n",
      "Requirement already satisfied: seaborn>=0.11.0 in /usr/local/lib/python3.10/dist-packages (from ultralytics) (0.12.2)\r\n",
      "Processing ./packages/ultralytics_thop-2.0.14-py3-none-any.whl (from ultralytics)\r\n",
      "Requirement already satisfied: contourpy>=1.0.1 in /usr/local/lib/python3.10/dist-packages (from matplotlib>=3.3.0->ultralytics) (1.3.1)\r\n",
      "Requirement already satisfied: cycler>=0.10 in /usr/local/lib/python3.10/dist-packages (from matplotlib>=3.3.0->ultralytics) (0.12.1)\r\n",
      "Requirement already satisfied: fonttools>=4.22.0 in /usr/local/lib/python3.10/dist-packages (from matplotlib>=3.3.0->ultralytics) (4.55.3)\r\n",
      "Requirement already satisfied: kiwisolver>=1.0.1 in /usr/local/lib/python3.10/dist-packages (from matplotlib>=3.3.0->ultralytics) (1.4.7)\r\n",
      "Requirement already satisfied: packaging>=20.0 in /usr/local/lib/python3.10/dist-packages (from matplotlib>=3.3.0->ultralytics) (24.2)\r\n",
      "Requirement already satisfied: pyparsing>=2.3.1 in /usr/local/lib/python3.10/dist-packages (from matplotlib>=3.3.0->ultralytics) (3.2.0)\r\n",
      "Requirement already satisfied: python-dateutil>=2.7 in /usr/local/lib/python3.10/dist-packages (from matplotlib>=3.3.0->ultralytics) (2.8.2)\r\n",
      "Requirement already satisfied: mkl_fft in /usr/local/lib/python3.10/dist-packages (from numpy<=2.1.1,>=1.23.0->ultralytics) (1.3.8)\r\n",
      "Requirement already satisfied: mkl_random in /usr/local/lib/python3.10/dist-packages (from numpy<=2.1.1,>=1.23.0->ultralytics) (1.2.4)\r\n",
      "Requirement already satisfied: mkl_umath in /usr/local/lib/python3.10/dist-packages (from numpy<=2.1.1,>=1.23.0->ultralytics) (0.1.1)\r\n",
      "Requirement already satisfied: mkl in /usr/local/lib/python3.10/dist-packages (from numpy<=2.1.1,>=1.23.0->ultralytics) (2025.0.1)\r\n",
      "Requirement already satisfied: tbb4py in /usr/local/lib/python3.10/dist-packages (from numpy<=2.1.1,>=1.23.0->ultralytics) (2022.0.0)\r\n",
      "Requirement already satisfied: mkl-service in /usr/local/lib/python3.10/dist-packages (from numpy<=2.1.1,>=1.23.0->ultralytics) (2.4.1)\r\n",
      "Requirement already satisfied: pytz>=2020.1 in /usr/local/lib/python3.10/dist-packages (from pandas>=1.1.4->ultralytics) (2024.2)\r\n",
      "Requirement already satisfied: tzdata>=2022.7 in /usr/local/lib/python3.10/dist-packages (from pandas>=1.1.4->ultralytics) (2024.2)\r\n",
      "Requirement already satisfied: charset-normalizer<4,>=2 in /usr/local/lib/python3.10/dist-packages (from requests>=2.23.0->ultralytics) (3.4.0)\r\n",
      "Requirement already satisfied: idna<4,>=2.5 in /usr/local/lib/python3.10/dist-packages (from requests>=2.23.0->ultralytics) (3.10)\r\n",
      "Requirement already satisfied: urllib3<3,>=1.21.1 in /usr/local/lib/python3.10/dist-packages (from requests>=2.23.0->ultralytics) (2.2.3)\r\n",
      "Requirement already satisfied: certifi>=2017.4.17 in /usr/local/lib/python3.10/dist-packages (from requests>=2.23.0->ultralytics) (2024.12.14)\r\n",
      "Requirement already satisfied: filelock in /usr/local/lib/python3.10/dist-packages (from torch>=1.8.0->ultralytics) (3.16.1)\r\n",
      "Requirement already satisfied: typing-extensions>=4.8.0 in /usr/local/lib/python3.10/dist-packages (from torch>=1.8.0->ultralytics) (4.12.2)\r\n",
      "Requirement already satisfied: networkx in /usr/local/lib/python3.10/dist-packages (from torch>=1.8.0->ultralytics) (3.4.2)\r\n",
      "Requirement already satisfied: jinja2 in /usr/local/lib/python3.10/dist-packages (from torch>=1.8.0->ultralytics) (3.1.4)\r\n",
      "Requirement already satisfied: fsspec in /usr/local/lib/python3.10/dist-packages (from torch>=1.8.0->ultralytics) (2024.9.0)\r\n",
      "Requirement already satisfied: sympy==1.13.1 in /usr/local/lib/python3.10/dist-packages (from torch>=1.8.0->ultralytics) (1.13.1)\r\n",
      "Requirement already satisfied: mpmath<1.4,>=1.1.0 in /usr/local/lib/python3.10/dist-packages (from sympy==1.13.1->torch>=1.8.0->ultralytics) (1.3.0)\r\n",
      "Requirement already satisfied: six>=1.5 in /usr/local/lib/python3.10/dist-packages (from python-dateutil>=2.7->matplotlib>=3.3.0->ultralytics) (1.17.0)\r\n",
      "Requirement already satisfied: MarkupSafe>=2.0 in /usr/local/lib/python3.10/dist-packages (from jinja2->torch>=1.8.0->ultralytics) (3.0.2)\r\n",
      "Requirement already satisfied: intel-openmp>=2024 in /usr/local/lib/python3.10/dist-packages (from mkl->numpy<=2.1.1,>=1.23.0->ultralytics) (2024.2.0)\r\n",
      "Requirement already satisfied: tbb==2022.* in /usr/local/lib/python3.10/dist-packages (from mkl->numpy<=2.1.1,>=1.23.0->ultralytics) (2022.0.0)\r\n",
      "Requirement already satisfied: tcmlib==1.* in /usr/local/lib/python3.10/dist-packages (from tbb==2022.*->mkl->numpy<=2.1.1,>=1.23.0->ultralytics) (1.2.0)\r\n",
      "Requirement already satisfied: intel-cmplr-lib-rt in /usr/local/lib/python3.10/dist-packages (from mkl_umath->numpy<=2.1.1,>=1.23.0->ultralytics) (2024.2.0)\r\n",
      "Requirement already satisfied: intel-cmplr-lib-ur==2024.2.0 in /usr/local/lib/python3.10/dist-packages (from intel-openmp>=2024->mkl->numpy<=2.1.1,>=1.23.0->ultralytics) (2024.2.0)\r\n",
      "Installing collected packages: ultralytics-thop, ultralytics\r\n",
      "Successfully installed ultralytics-8.3.71 ultralytics-thop-2.0.14\r\n"
     ]
    }
   ],
   "source": [
    "!tar xfvz /kaggle/input/ultralitycs/archive.tar.gz\n",
    "!pip install --no-index --find-links=./packages ultralytics\n",
    "!rm -rf ./packages"
   ]
  },
  {
   "cell_type": "code",
   "execution_count": 2,
   "id": "54c72995",
   "metadata": {
    "execution": {
     "iopub.execute_input": "2025-02-04T20:52:01.366016Z",
     "iopub.status.busy": "2025-02-04T20:52:01.365738Z",
     "iopub.status.idle": "2025-02-04T20:52:10.913500Z",
     "shell.execute_reply": "2025-02-04T20:52:10.912399Z"
    },
    "papermill": {
     "duration": 9.555297,
     "end_time": "2025-02-04T20:52:10.915217",
     "exception": false,
     "start_time": "2025-02-04T20:52:01.359920",
     "status": "completed"
    },
    "tags": []
   },
   "outputs": [
    {
     "name": "stdout",
     "output_type": "stream",
     "text": [
      "Processing ./wheel_file/asciitree-0.3.3/asciitree-0.3.3\r\n",
      "  Preparing metadata (setup.py) ... \u001b[?25l\u001b[?25hdone\r\n",
      "Building wheels for collected packages: asciitree\r\n",
      "  Building wheel for asciitree (setup.py) ... \u001b[?25l\u001b[?25hdone\r\n",
      "  Created wheel for asciitree: filename=asciitree-0.3.3-py3-none-any.whl size=5034 sha256=1e3b535bc6e32529916bec8da62b6f66033e5f70e8d7b6e4cf3f547a90d9d242\r\n",
      "  Stored in directory: /root/.cache/pip/wheels/72/5f/18/c0251c9cff85c62eda5978bec3fd2e2bf68c30d9b89d523146\r\n",
      "Successfully built asciitree\r\n",
      "Installing collected packages: asciitree\r\n",
      "Successfully installed asciitree-0.3.3\r\n",
      "Looking in links: /kaggle/working/wheel_file\r\n",
      "Processing ./wheel_file/zarr-2.18.3-py3-none-any.whl\r\n",
      "Requirement already satisfied: asciitree in /usr/local/lib/python3.10/dist-packages (from zarr) (0.3.3)\r\n",
      "Requirement already satisfied: numpy>=1.24 in /usr/local/lib/python3.10/dist-packages (from zarr) (1.26.4)\r\n",
      "Processing ./wheel_file/numcodecs-0.13.1-cp310-cp310-manylinux_2_17_x86_64.manylinux2014_x86_64.whl (from zarr)\r\n",
      "Processing ./wheel_file/fasteners-0.19-py3-none-any.whl (from zarr)\r\n",
      "Requirement already satisfied: mkl_fft in /usr/local/lib/python3.10/dist-packages (from numpy>=1.24->zarr) (1.3.8)\r\n",
      "Requirement already satisfied: mkl_random in /usr/local/lib/python3.10/dist-packages (from numpy>=1.24->zarr) (1.2.4)\r\n",
      "Requirement already satisfied: mkl_umath in /usr/local/lib/python3.10/dist-packages (from numpy>=1.24->zarr) (0.1.1)\r\n",
      "Requirement already satisfied: mkl in /usr/local/lib/python3.10/dist-packages (from numpy>=1.24->zarr) (2025.0.1)\r\n",
      "Requirement already satisfied: tbb4py in /usr/local/lib/python3.10/dist-packages (from numpy>=1.24->zarr) (2022.0.0)\r\n",
      "Requirement already satisfied: mkl-service in /usr/local/lib/python3.10/dist-packages (from numpy>=1.24->zarr) (2.4.1)\r\n",
      "Requirement already satisfied: intel-openmp>=2024 in /usr/local/lib/python3.10/dist-packages (from mkl->numpy>=1.24->zarr) (2024.2.0)\r\n",
      "Requirement already satisfied: tbb==2022.* in /usr/local/lib/python3.10/dist-packages (from mkl->numpy>=1.24->zarr) (2022.0.0)\r\n",
      "Requirement already satisfied: tcmlib==1.* in /usr/local/lib/python3.10/dist-packages (from tbb==2022.*->mkl->numpy>=1.24->zarr) (1.2.0)\r\n",
      "Requirement already satisfied: intel-cmplr-lib-rt in /usr/local/lib/python3.10/dist-packages (from mkl_umath->numpy>=1.24->zarr) (2024.2.0)\r\n",
      "Requirement already satisfied: intel-cmplr-lib-ur==2024.2.0 in /usr/local/lib/python3.10/dist-packages (from intel-openmp>=2024->mkl->numpy>=1.24->zarr) (2024.2.0)\r\n",
      "Installing collected packages: fasteners, numcodecs, zarr\r\n",
      "Successfully installed fasteners-0.19 numcodecs-0.13.1 zarr-2.18.3\r\n"
     ]
    }
   ],
   "source": [
    "!cp -r '/kaggle/input/hengck-czii-cryo-et-01/wheel_file' '/kaggle/working/'\n",
    "!pip install /kaggle/working/wheel_file/asciitree-0.3.3/asciitree-0.3.3\n",
    "!pip install --no-index --find-links=/kaggle/working/wheel_file zarr"
   ]
  },
  {
   "cell_type": "code",
   "execution_count": 3,
   "id": "745693bd",
   "metadata": {
    "execution": {
     "iopub.execute_input": "2025-02-04T20:52:10.927939Z",
     "iopub.status.busy": "2025-02-04T20:52:10.927672Z",
     "iopub.status.idle": "2025-02-04T20:52:18.659835Z",
     "shell.execute_reply": "2025-02-04T20:52:18.659137Z"
    },
    "papermill": {
     "duration": 7.739981,
     "end_time": "2025-02-04T20:52:18.661267",
     "exception": false,
     "start_time": "2025-02-04T20:52:10.921286",
     "status": "completed"
    },
    "tags": []
   },
   "outputs": [
    {
     "name": "stdout",
     "output_type": "stream",
     "text": [
      "Creating new Ultralytics Settings v0.0.6 file ✅ \n",
      "View Ultralytics Settings with 'yolo settings' or at '/root/.config/Ultralytics/settings.json'\n",
      "Update Settings with 'yolo settings key=value', i.e. 'yolo settings runs_dir=path/to/dir'. For help see https://docs.ultralytics.com/quickstart/#ultralytics-settings.\n"
     ]
    }
   ],
   "source": [
    "import zarr\n",
    "from ultralytics import YOLO\n",
    "from tqdm import tqdm\n",
    "import glob, os\n",
    "import torch"
   ]
  },
  {
   "cell_type": "code",
   "execution_count": 4,
   "id": "1e3f8d81",
   "metadata": {
    "execution": {
     "iopub.execute_input": "2025-02-04T20:52:18.674263Z",
     "iopub.status.busy": "2025-02-04T20:52:18.673845Z",
     "iopub.status.idle": "2025-02-04T20:52:19.424022Z",
     "shell.execute_reply": "2025-02-04T20:52:19.423326Z"
    },
    "papermill": {
     "duration": 0.758164,
     "end_time": "2025-02-04T20:52:19.425589",
     "exception": false,
     "start_time": "2025-02-04T20:52:18.667425",
     "status": "completed"
    },
    "tags": []
   },
   "outputs": [],
   "source": [
    "import numpy as np\n",
    "import pandas as pd\n",
    "import matplotlib.pyplot as plt\n",
    "import cv2"
   ]
  },
  {
   "cell_type": "code",
   "execution_count": 5,
   "id": "c872328a",
   "metadata": {
    "execution": {
     "iopub.execute_input": "2025-02-04T20:52:19.438806Z",
     "iopub.status.busy": "2025-02-04T20:52:19.438309Z",
     "iopub.status.idle": "2025-02-04T20:52:19.441514Z",
     "shell.execute_reply": "2025-02-04T20:52:19.440921Z"
    },
    "papermill": {
     "duration": 0.010898,
     "end_time": "2025-02-04T20:52:19.442731",
     "exception": false,
     "start_time": "2025-02-04T20:52:19.431833",
     "status": "completed"
    },
    "tags": []
   },
   "outputs": [],
   "source": [
    "import sys\n",
    "sys.setrecursionlimit(10000)"
   ]
  },
  {
   "cell_type": "code",
   "execution_count": 6,
   "id": "7efabea8",
   "metadata": {
    "execution": {
     "iopub.execute_input": "2025-02-04T20:52:19.454911Z",
     "iopub.status.busy": "2025-02-04T20:52:19.454707Z",
     "iopub.status.idle": "2025-02-04T20:52:19.457621Z",
     "shell.execute_reply": "2025-02-04T20:52:19.456997Z"
    },
    "papermill": {
     "duration": 0.010369,
     "end_time": "2025-02-04T20:52:19.458844",
     "exception": false,
     "start_time": "2025-02-04T20:52:19.448475",
     "status": "completed"
    },
    "tags": []
   },
   "outputs": [],
   "source": [
    "import warnings\n",
    "warnings.simplefilter('ignore')\n",
    "np.warnings = warnings"
   ]
  },
  {
   "cell_type": "code",
   "execution_count": 7,
   "id": "6c297bd3",
   "metadata": {
    "execution": {
     "iopub.execute_input": "2025-02-04T20:52:19.471035Z",
     "iopub.status.busy": "2025-02-04T20:52:19.470832Z",
     "iopub.status.idle": "2025-02-04T20:52:20.583004Z",
     "shell.execute_reply": "2025-02-04T20:52:20.582014Z"
    },
    "papermill": {
     "duration": 1.11988,
     "end_time": "2025-02-04T20:52:20.584554",
     "exception": false,
     "start_time": "2025-02-04T20:52:19.464674",
     "status": "completed"
    },
    "tags": []
   },
   "outputs": [],
   "source": [
    "model = YOLO(\"/kaggle/input/czii-yolo11-training-baseline/runs/detect/train/weights/best.pt\")"
   ]
  },
  {
   "cell_type": "code",
   "execution_count": 8,
   "id": "3ee9ff30",
   "metadata": {
    "execution": {
     "iopub.execute_input": "2025-02-04T20:52:20.597439Z",
     "iopub.status.busy": "2025-02-04T20:52:20.597190Z",
     "iopub.status.idle": "2025-02-04T20:52:20.609481Z",
     "shell.execute_reply": "2025-02-04T20:52:20.608811Z"
    },
    "papermill": {
     "duration": 0.019996,
     "end_time": "2025-02-04T20:52:20.610743",
     "exception": false,
     "start_time": "2025-02-04T20:52:20.590747",
     "status": "completed"
    },
    "tags": []
   },
   "outputs": [
    {
     "data": {
      "text/plain": [
       "['TS_5_4', 'TS_69_2', 'TS_6_4']"
      ]
     },
     "execution_count": 8,
     "metadata": {},
     "output_type": "execute_result"
    }
   ],
   "source": [
    "runs = sorted(glob.glob('/kaggle/input/czii-cryo-et-object-identification/test/static/ExperimentRuns/*'))\n",
    "runs = [os.path.basename(x) for x in runs]\n",
    "runs[:5]"
   ]
  },
  {
   "cell_type": "code",
   "execution_count": 9,
   "id": "4880de41",
   "metadata": {
    "execution": {
     "iopub.execute_input": "2025-02-04T20:52:20.623067Z",
     "iopub.status.busy": "2025-02-04T20:52:20.622856Z",
     "iopub.status.idle": "2025-02-04T20:52:20.625733Z",
     "shell.execute_reply": "2025-02-04T20:52:20.625129Z"
    },
    "papermill": {
     "duration": 0.010353,
     "end_time": "2025-02-04T20:52:20.626984",
     "exception": false,
     "start_time": "2025-02-04T20:52:20.616631",
     "status": "completed"
    },
    "tags": []
   },
   "outputs": [],
   "source": [
    "particle_names = ['apo-ferritin', 'beta-amylase', 'beta-galactosidase', 'ribosome', 'thyroglobulin', 'virus-like-particle']"
   ]
  },
  {
   "cell_type": "code",
   "execution_count": 10,
   "id": "fd7c3c95",
   "metadata": {
    "execution": {
     "iopub.execute_input": "2025-02-04T20:52:20.639347Z",
     "iopub.status.busy": "2025-02-04T20:52:20.639140Z",
     "iopub.status.idle": "2025-02-04T20:52:20.642582Z",
     "shell.execute_reply": "2025-02-04T20:52:20.641942Z"
    },
    "papermill": {
     "duration": 0.010839,
     "end_time": "2025-02-04T20:52:20.643643",
     "exception": false,
     "start_time": "2025-02-04T20:52:20.632804",
     "status": "completed"
    },
    "tags": []
   },
   "outputs": [],
   "source": [
    "p2i_dict = {\n",
    "        'apo-ferritin': 0,\n",
    "        'beta-amylase': 1,\n",
    "        'beta-galactosidase': 2,\n",
    "        'ribosome': 3,\n",
    "        'thyroglobulin': 4,\n",
    "        'virus-like-particle': 5\n",
    "    }\n",
    "\n",
    "i2p = {v:k for k, v in p2i_dict.items()}"
   ]
  },
  {
   "cell_type": "code",
   "execution_count": 11,
   "id": "5d2eff9f",
   "metadata": {
    "execution": {
     "iopub.execute_input": "2025-02-04T20:52:20.655588Z",
     "iopub.status.busy": "2025-02-04T20:52:20.655335Z",
     "iopub.status.idle": "2025-02-04T20:52:20.658378Z",
     "shell.execute_reply": "2025-02-04T20:52:20.657786Z"
    },
    "papermill": {
     "duration": 0.010312,
     "end_time": "2025-02-04T20:52:20.659602",
     "exception": false,
     "start_time": "2025-02-04T20:52:20.649290",
     "status": "completed"
    },
    "tags": []
   },
   "outputs": [],
   "source": [
    "particle_radius = {\n",
    "        'apo-ferritin': 60,\n",
    "        'beta-amylase': 65,\n",
    "        'beta-galactosidase': 90,\n",
    "        'ribosome': 150,\n",
    "        'thyroglobulin': 130,\n",
    "        'virus-like-particle': 135,\n",
    "    }"
   ]
  },
  {
   "cell_type": "code",
   "execution_count": 12,
   "id": "2b7dcbf3",
   "metadata": {
    "execution": {
     "iopub.execute_input": "2025-02-04T20:52:20.672141Z",
     "iopub.status.busy": "2025-02-04T20:52:20.671937Z",
     "iopub.status.idle": "2025-02-04T20:52:20.688284Z",
     "shell.execute_reply": "2025-02-04T20:52:20.687659Z"
    },
    "papermill": {
     "duration": 0.024044,
     "end_time": "2025-02-04T20:52:20.689464",
     "exception": false,
     "start_time": "2025-02-04T20:52:20.665420",
     "status": "completed"
    },
    "tags": []
   },
   "outputs": [],
   "source": [
    "class PredAggForYOLO:\n",
    "    def __init__(self, first_conf=0.2, final_conf=0.3, conf_coef=0.75):\n",
    "        self.first_conf = first_conf # threshold of confidence yolo\n",
    "        self.final_conf = final_conf # final threshold score (not be used in version 14)\n",
    "        self.conf_coef = conf_coef # if found many points, give bonus\n",
    "        self.particle_confs = [0.5, 0.0, 0.2, 0.5, 0.2, 0.5] # be strict to easy labels \n",
    "\n",
    "    def convert_to_8bit(self, x):\n",
    "        lower, upper = np.percentile(x, (0.5, 99.5))\n",
    "        x = np.clip(x, lower, upper)\n",
    "        x = (x - x.min()) / (x.max() - x.min() + 1e-12) * 255\n",
    "        return x.round().astype(\"uint8\")\n",
    "\n",
    "    # depth first search.\n",
    "    # aggregate the coordinates and confidence scores of connected graphs.\n",
    "    def dfs(self, v):\n",
    "        self.passed[v] = True\n",
    "        self.conf_sum += self.pdf.iloc[v].confidence\n",
    "        self.cx += self.pdf.iloc[v].x\n",
    "        self.cy += self.pdf.iloc[v].y\n",
    "        self.cz += self.pdf.iloc[v].z\n",
    "        self.nv += 1\n",
    "        for next_v in self.adjacency_list[v]:\n",
    "            if (self.passed[next_v]): continue\n",
    "            self.dfs(next_v)\n",
    "\n",
    "    # main routine.\n",
    "    def make_predict_yolo(self, r, model):\n",
    "        vol = zarr.open(f'/kaggle/input/czii-cryo-et-object-identification/test/static/ExperimentRuns/{r}/VoxelSpacing10.000/denoised.zarr', mode='r')\n",
    "        vol = vol[0]\n",
    "        vol2 = self.convert_to_8bit(vol)\n",
    "        n_imgs = vol2.shape[0]\n",
    "    \n",
    "        df = pd.DataFrame()\n",
    "    \n",
    "        pts = []\n",
    "        confs = []\n",
    "        xs = []\n",
    "        ys = []\n",
    "        zs = []\n",
    "        \n",
    "        for i in range(n_imgs):\n",
    "            # Unfortunately the image size needs to be a multiple of 32.\n",
    "            tmp_img = np.zeros((630, 630))\n",
    "            tmp_img[:] = vol2[i]\n",
    "    \n",
    "            inp_arr = np.stack([tmp_img]*3,axis=-1)\n",
    "            inp_arr = cv2.resize(inp_arr, (640,640))\n",
    "            res = model.predict(inp_arr, save=False, imgsz=640, conf=self.first_conf, device=\"0\", batch=1, verbose=False)\n",
    "            for j, result in enumerate(res):\n",
    "                boxes = result.boxes # Boxes object for bounding box outputs    \n",
    "                for k in range(len(boxes.cls)):\n",
    "                    ptype = i2p[boxes.cls.cpu().numpy()[k]] # particle type\n",
    "                    conf = boxes.conf.cpu().numpy()[k] # confidence score\n",
    "                    # YOLO can infer (start_x, end_x, start_y, end_y)\n",
    "                    xc = (boxes.xyxy[k,0] + boxes.xyxy[k,2]) / 2.0 * 10 * (63/64)\n",
    "                    yc = (boxes.xyxy[k,1] + boxes.xyxy[k,3]) / 2.0 * 10 * (63/64)\n",
    "                    zc = i * 10 + 5\n",
    "    \n",
    "                    pts.append(ptype)\n",
    "                    confs.append(conf)\n",
    "                    xs.append(xc.cpu().numpy())\n",
    "                    ys.append(yc.cpu().numpy())\n",
    "                    zs.append(zc)           \n",
    "                \n",
    "        df['particle_type'] = pts\n",
    "        df['confidence'] = confs\n",
    "        df['x'] = xs\n",
    "        df['y'] = ys\n",
    "        df['z'] = zs\n",
    "\n",
    "        # df includes overall canditate of CIRCLE. \n",
    "        df = df.sort_values(['particle_type', 'z'], ascending=[True, True])\n",
    "    \n",
    "        agg_df = []\n",
    "\n",
    "        # infer center of sphere each particle types\n",
    "        for pidx, p in enumerate(particle_names):\n",
    "            if p == 'beta-amylase':\n",
    "                continue\n",
    "            pdf = df[df['particle_type']==p].reset_index(drop=True)\n",
    "            self.pdf = pdf\n",
    "            p_rad = particle_radius[p]\n",
    "\n",
    "            # The distance between the x and y coordinates of adjacent slices is expected to be very small.\n",
    "            xy_tol = p_rad / 16.0\n",
    "            xy_tol_p2 = xy_tol ** 2\n",
    "\n",
    "            # define the graph\n",
    "            self.adjacency_list = [[] for _ in range(len(pdf))]\n",
    "            # which already passed in dfs\n",
    "            self.passed = [False for _ in range(len(pdf))]\n",
    "\n",
    "            # Connect two points when they are close enough\n",
    "            for i in range(len(pdf)):\n",
    "                x1 = pdf['x'].iloc[i]\n",
    "                y1 = pdf['y'].iloc[i]\n",
    "                z1 = pdf['z'].iloc[i]\n",
    "                for j in range(i+1, len(pdf), 1):\n",
    "                    x2 = pdf['x'].iloc[j]\n",
    "                    y2 = pdf['y'].iloc[j]\n",
    "                    z2 = pdf['z'].iloc[j]\n",
    "                    # Can be pruned. thanks to min fuka (@minfuka)\n",
    "                    if abs(z1-z2)>20:\n",
    "                        break\n",
    "    \n",
    "                    dist_p2 = (x1-x2)**2 + (y1-y2)**2\n",
    "                    if dist_p2<xy_tol_p2 and dist_p2+(z1-z2)**2 < p_rad**2 and abs(z1-z2)<=20:\n",
    "                        self.adjacency_list[i].append(j)\n",
    "                        self.adjacency_list[j].append(i)\n",
    "\n",
    "            rdf = pd.DataFrame()\n",
    "            cxs = []\n",
    "            cys = []\n",
    "            czs = []\n",
    "\n",
    "            # Perform DFS on all points and find the center of the sphere from the average of the coordinates\n",
    "            for i in range(len(pdf)):\n",
    "                self.conf_sum = 0\n",
    "                self.nv = 0\n",
    "                self.cx = 0\n",
    "                self.cy = 0\n",
    "                self.cz = 0\n",
    "                if not self.passed[i]:\n",
    "                    self.dfs(i)\n",
    "\n",
    "                # Different confidence for different particle types\n",
    "                if self.nv>=2 and self.conf_sum / (self.nv**self.conf_coef) > self.particle_confs[pidx]:\n",
    "                    cxs.append(self.cx / self.nv)\n",
    "                    cys.append(self.cy / self.nv)\n",
    "                    czs.append(self.cz / self.nv)\n",
    "\n",
    "            rdf['experiment'] = [r] * len(cxs)\n",
    "            rdf['particle_type'] = [p] * len(cys)\n",
    "            rdf['x'] = cxs\n",
    "            rdf['y'] = cys\n",
    "            rdf['z'] = czs\n",
    "\n",
    "            agg_df.append(rdf)\n",
    "\n",
    "       \n",
    "        return pd.concat(agg_df, axis=0)"
   ]
  },
  {
   "cell_type": "code",
   "execution_count": 13,
   "id": "01dabea4",
   "metadata": {
    "execution": {
     "iopub.execute_input": "2025-02-04T20:52:20.701693Z",
     "iopub.status.busy": "2025-02-04T20:52:20.701458Z",
     "iopub.status.idle": "2025-02-04T20:52:20.704355Z",
     "shell.execute_reply": "2025-02-04T20:52:20.703797Z"
    },
    "papermill": {
     "duration": 0.010349,
     "end_time": "2025-02-04T20:52:20.705557",
     "exception": false,
     "start_time": "2025-02-04T20:52:20.695208",
     "status": "completed"
    },
    "tags": []
   },
   "outputs": [],
   "source": [
    "agent = PredAggForYOLO(first_conf=0.15, final_conf=0.2, conf_coef=0.5)"
   ]
  },
  {
   "cell_type": "code",
   "execution_count": 14,
   "id": "64d8491b",
   "metadata": {
    "execution": {
     "iopub.execute_input": "2025-02-04T20:52:20.717875Z",
     "iopub.status.busy": "2025-02-04T20:52:20.717674Z",
     "iopub.status.idle": "2025-02-04T20:52:20.720287Z",
     "shell.execute_reply": "2025-02-04T20:52:20.719741Z"
    },
    "papermill": {
     "duration": 0.010153,
     "end_time": "2025-02-04T20:52:20.721451",
     "exception": false,
     "start_time": "2025-02-04T20:52:20.711298",
     "status": "completed"
    },
    "tags": []
   },
   "outputs": [],
   "source": [
    "subs = []"
   ]
  },
  {
   "cell_type": "code",
   "execution_count": 15,
   "id": "69c73466",
   "metadata": {
    "execution": {
     "iopub.execute_input": "2025-02-04T20:52:20.733584Z",
     "iopub.status.busy": "2025-02-04T20:52:20.733341Z",
     "iopub.status.idle": "2025-02-04T20:52:20.736084Z",
     "shell.execute_reply": "2025-02-04T20:52:20.735485Z"
    },
    "papermill": {
     "duration": 0.010092,
     "end_time": "2025-02-04T20:52:20.737316",
     "exception": false,
     "start_time": "2025-02-04T20:52:20.727224",
     "status": "completed"
    },
    "tags": []
   },
   "outputs": [],
   "source": [
    "import time"
   ]
  },
  {
   "cell_type": "code",
   "execution_count": 16,
   "id": "4024d882",
   "metadata": {
    "execution": {
     "iopub.execute_input": "2025-02-04T20:52:20.749588Z",
     "iopub.status.busy": "2025-02-04T20:52:20.749324Z",
     "iopub.status.idle": "2025-02-04T20:53:18.677750Z",
     "shell.execute_reply": "2025-02-04T20:53:18.676584Z"
    },
    "papermill": {
     "duration": 57.936001,
     "end_time": "2025-02-04T20:53:18.679146",
     "exception": false,
     "start_time": "2025-02-04T20:52:20.743145",
     "status": "completed"
    },
    "tags": []
   },
   "outputs": [
    {
     "name": "stderr",
     "output_type": "stream",
     "text": [
      "100%|██████████| 3/3 [00:57<00:00, 19.31s/it]"
     ]
    },
    {
     "name": "stdout",
     "output_type": "stream",
     "text": [
      "CPU times: user 47.5 s, sys: 6.42 s, total: 53.9 s\n",
      "Wall time: 57.9 s\n"
     ]
    },
    {
     "name": "stderr",
     "output_type": "stream",
     "text": [
      "\n"
     ]
    }
   ],
   "source": [
    "%%time\n",
    "tick = time.time()\n",
    "for r in tqdm(runs, total=len(runs)):\n",
    "    df = agent.make_predict_yolo(r, model)\n",
    "    subs.append(df)\n",
    "tock = time.time()"
   ]
  },
  {
   "cell_type": "code",
   "execution_count": 17,
   "id": "0996d6db",
   "metadata": {
    "execution": {
     "iopub.execute_input": "2025-02-04T20:53:18.692818Z",
     "iopub.status.busy": "2025-02-04T20:53:18.692571Z",
     "iopub.status.idle": "2025-02-04T20:53:18.696834Z",
     "shell.execute_reply": "2025-02-04T20:53:18.695875Z"
    },
    "papermill": {
     "duration": 0.012558,
     "end_time": "2025-02-04T20:53:18.698303",
     "exception": false,
     "start_time": "2025-02-04T20:53:18.685745",
     "status": "completed"
    },
    "tags": []
   },
   "outputs": [
    {
     "name": "stdout",
     "output_type": "stream",
     "text": [
      "estimated predict time is 9653.7811 seconds\n"
     ]
    }
   ],
   "source": [
    "print(f'estimated predict time is {(tock-tick)/3*500:.4f} seconds')"
   ]
  },
  {
   "cell_type": "code",
   "execution_count": 18,
   "id": "5c22ec11",
   "metadata": {
    "execution": {
     "iopub.execute_input": "2025-02-04T20:53:18.711391Z",
     "iopub.status.busy": "2025-02-04T20:53:18.711150Z",
     "iopub.status.idle": "2025-02-04T20:53:18.716368Z",
     "shell.execute_reply": "2025-02-04T20:53:18.715564Z"
    },
    "papermill": {
     "duration": 0.013092,
     "end_time": "2025-02-04T20:53:18.717719",
     "exception": false,
     "start_time": "2025-02-04T20:53:18.704627",
     "status": "completed"
    },
    "tags": []
   },
   "outputs": [],
   "source": [
    "submission = pd.concat(subs).reset_index(drop=True)\n",
    "submission.insert(0, 'id', range(len(submission)))"
   ]
  },
  {
   "cell_type": "code",
   "execution_count": 19,
   "id": "c57e3ea2",
   "metadata": {
    "execution": {
     "iopub.execute_input": "2025-02-04T20:53:18.730611Z",
     "iopub.status.busy": "2025-02-04T20:53:18.730361Z",
     "iopub.status.idle": "2025-02-04T20:53:18.753856Z",
     "shell.execute_reply": "2025-02-04T20:53:18.753030Z"
    },
    "papermill": {
     "duration": 0.031179,
     "end_time": "2025-02-04T20:53:18.755029",
     "exception": false,
     "start_time": "2025-02-04T20:53:18.723850",
     "status": "completed"
    },
    "tags": []
   },
   "outputs": [
    {
     "data": {
      "text/html": [
       "<div>\n",
       "<style scoped>\n",
       "    .dataframe tbody tr th:only-of-type {\n",
       "        vertical-align: middle;\n",
       "    }\n",
       "\n",
       "    .dataframe tbody tr th {\n",
       "        vertical-align: top;\n",
       "    }\n",
       "\n",
       "    .dataframe thead th {\n",
       "        text-align: right;\n",
       "    }\n",
       "</style>\n",
       "<table border=\"1\" class=\"dataframe\">\n",
       "  <thead>\n",
       "    <tr style=\"text-align: right;\">\n",
       "      <th></th>\n",
       "      <th>id</th>\n",
       "      <th>experiment</th>\n",
       "      <th>particle_type</th>\n",
       "      <th>x</th>\n",
       "      <th>y</th>\n",
       "      <th>z</th>\n",
       "    </tr>\n",
       "  </thead>\n",
       "  <tbody>\n",
       "    <tr>\n",
       "      <th>0</th>\n",
       "      <td>0</td>\n",
       "      <td>TS_5_4</td>\n",
       "      <td>apo-ferritin</td>\n",
       "      <td>5878.604492</td>\n",
       "      <td>5129.602600</td>\n",
       "      <td>90.0</td>\n",
       "    </tr>\n",
       "    <tr>\n",
       "      <th>1</th>\n",
       "      <td>1</td>\n",
       "      <td>TS_5_4</td>\n",
       "      <td>apo-ferritin</td>\n",
       "      <td>5745.687402</td>\n",
       "      <td>5111.375684</td>\n",
       "      <td>105.0</td>\n",
       "    </tr>\n",
       "    <tr>\n",
       "      <th>2</th>\n",
       "      <td>2</td>\n",
       "      <td>TS_5_4</td>\n",
       "      <td>apo-ferritin</td>\n",
       "      <td>5712.691685</td>\n",
       "      <td>4993.255999</td>\n",
       "      <td>115.0</td>\n",
       "    </tr>\n",
       "    <tr>\n",
       "      <th>3</th>\n",
       "      <td>3</td>\n",
       "      <td>TS_5_4</td>\n",
       "      <td>apo-ferritin</td>\n",
       "      <td>5299.776074</td>\n",
       "      <td>4167.666406</td>\n",
       "      <td>145.0</td>\n",
       "    </tr>\n",
       "    <tr>\n",
       "      <th>4</th>\n",
       "      <td>4</td>\n",
       "      <td>TS_5_4</td>\n",
       "      <td>apo-ferritin</td>\n",
       "      <td>2806.420441</td>\n",
       "      <td>1636.127884</td>\n",
       "      <td>210.0</td>\n",
       "    </tr>\n",
       "  </tbody>\n",
       "</table>\n",
       "</div>"
      ],
      "text/plain": [
       "   id experiment particle_type            x            y      z\n",
       "0   0     TS_5_4  apo-ferritin  5878.604492  5129.602600   90.0\n",
       "1   1     TS_5_4  apo-ferritin  5745.687402  5111.375684  105.0\n",
       "2   2     TS_5_4  apo-ferritin  5712.691685  4993.255999  115.0\n",
       "3   3     TS_5_4  apo-ferritin  5299.776074  4167.666406  145.0\n",
       "4   4     TS_5_4  apo-ferritin  2806.420441  1636.127884  210.0"
      ]
     },
     "execution_count": 19,
     "metadata": {},
     "output_type": "execute_result"
    }
   ],
   "source": [
    "submission.to_csv(\"submission.csv\", index=False)\n",
    "submission.head()"
   ]
  },
  {
   "cell_type": "code",
   "execution_count": null,
   "id": "4196581c",
   "metadata": {
    "papermill": {
     "duration": 0.006135,
     "end_time": "2025-02-04T20:53:18.767898",
     "exception": false,
     "start_time": "2025-02-04T20:53:18.761763",
     "status": "completed"
    },
    "tags": []
   },
   "outputs": [],
   "source": []
  }
 ],
 "metadata": {
  "kaggle": {
   "accelerator": "nvidiaTeslaT4",
   "dataSources": [
    {
     "databundleVersionId": 10033515,
     "sourceId": 84969,
     "sourceType": "competition"
    },
    {
     "datasetId": 6040935,
     "sourceId": 9867543,
     "sourceType": "datasetVersion"
    },
    {
     "datasetId": 6604244,
     "sourceId": 10663758,
     "sourceType": "datasetVersion"
    },
    {
     "sourceId": 220828153,
     "sourceType": "kernelVersion"
    }
   ],
   "dockerImageVersionId": 30839,
   "isGpuEnabled": true,
   "isInternetEnabled": false,
   "language": "python",
   "sourceType": "notebook"
  },
  "kernelspec": {
   "display_name": "Python 3",
   "language": "python",
   "name": "python3"
  },
  "language_info": {
   "codemirror_mode": {
    "name": "ipython",
    "version": 3
   },
   "file_extension": ".py",
   "mimetype": "text/x-python",
   "name": "python",
   "nbconvert_exporter": "python",
   "pygments_lexer": "ipython3",
   "version": "3.10.12"
  },
  "papermill": {
   "default_parameters": {},
   "duration": 129.620756,
   "end_time": "2025-02-04T20:53:20.395970",
   "environment_variables": {},
   "exception": null,
   "input_path": "__notebook__.ipynb",
   "output_path": "__notebook__.ipynb",
   "parameters": {},
   "start_time": "2025-02-04T20:51:10.775214",
   "version": "2.6.0"
  }
 },
 "nbformat": 4,
 "nbformat_minor": 5
}
